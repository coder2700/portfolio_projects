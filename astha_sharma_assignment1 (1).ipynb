{
 "cells": [
  {
   "cell_type": "markdown",
   "metadata": {
    "collapsed": false
   },
   "source": [
    "# Assignment 1 - Programming skills"
   ]
  },
  {
   "cell_type": "markdown",
   "metadata": {
    "collapsed": false
   },
   "source": [
    "## Author information\n",
    "\n",
    "Name: Astha Sharma     \n",
    "\n",
    "Student ID: 11104323\n"
   ]
  },
  {
   "cell_type": "markdown",
   "metadata": {
    "collapsed": false
   },
   "source": [
    "## Overview\n",
    "\n",
    "The aim of this assignment is to create a simple python script using content from the lectures which can be developed during the introductory period of the module. In addition to using content from the module you will be encouraged to search for solutions using online documentation, document your code and follow file naming conventions. All of which are an important parts of developing code for bioinformatics projects.\n",
    "\n",
    "Task: you have a dataset of DNA sequences that are important to your research and you recently identified a new sequence that you would like to add to this dataset. However, your existing DNA sequences are represented in the sense strand of DNA and your new sequence is represented on the antisense strand. You will therefore need to reverse complement this new sequence prior to adding it to your dataset.\n"
   ]
  },
  {
   "cell_type": "markdown",
   "metadata": {
    "collapsed": false
   },
   "source": [
    "### Step 1\n",
    "\n",
    "Read the input file, \"sequence_dataset.txt\", into a dictionary. Add a comment to briefly explain your understanding of a dictionary."
   ]
  },
  {
   "cell_type": "code",
   "execution_count": 11,
   "metadata": {
    "collapsed": false
   },
   "outputs": [
    {
     "name": "stdout",
     "output_type": "stream",
     "text": [
      "{'IL23R': 'aggcagtgaggaaagaagacatgacacagccaacaagggtggcagcctggctctgaagtg', 'TNF': 'cgaaccccgagtgacaagcctgtagcccatgttgtag', 'APOE': 'cgcctcaagagctggttcgagcccctggtggaagacatgcagcgccagtgggccgggctggtggagaaggtgcaggctgccgtgggcaccagcgccgcccctgtgcccagcgacaatcac', 'IL6': 'aatctagatgcaataaccacccctgacccaaccacaaatgccagcctgctgacgaagctg'}\n"
     ]
    }
   ],
   "source": [
    "o = open('sequence_dataset.txt', 'r')\n",
    "sequence_dictionary = {}\n",
    "for line in o:\n",
    "    k, v= line.strip().split('\t')\n",
    "    sequence_dictionary[k.strip()]= v.strip()\n",
    "o.close()\n",
    "print(sequence_dictionary)\n",
    "#dictioary hold the values alonfg with their keys. Every value in the dictioanry can be accessed through the "
   ]
  },
  {
   "cell_type": "code",
   "execution_count": 0,
   "metadata": {
    "collapsed": false
   },
   "outputs": [
   ],
   "source": [
    "Step 2 \n",
    "Read the input file containing your new sequence (new_sequence.txt)\n",
    "into a variable"
   ]
  },
  {
   "cell_type": "code",
   "execution_count": 8,
   "metadata": {
    "collapsed": false,
    "scrolled": true
   },
   "outputs": [
    {
     "name": "stdout",
     "output_type": "stream",
     "text": [
      "ggagagcgggccgccccacagcccgagccggagagggagcgcgagccgcgccggccccggtcgggcctccgaaaccatgaactttctgctgtcttgggtgcattggagccttgccttgct\n",
      "\n"
     ]
    }
   ],
   "source": [
    "with open('new_sequence.txt') as o:\n",
    "    new_sequence = o.read()\n",
    "    print(new_sequence)"
   ]
  },
  {
   "cell_type": "markdown",
   "metadata": {
    "collapsed": false
   },
   "source": [
    "### Step 3\n",
    "\n",
    "Create a new variable with the reverse complement of this sequence. \n",
    "\n",
    "HINT: you may run in to trouble with using str.replace, so try looking at the documentation for str.translate() and the helper function str.maketrans(). This function converts a dictionary to explicitly map the changes in the nucleotide bases e.g.,\n",
    "\n",
    "myseq = \"acgtcgt\"\n",
    "\n",
    "complement_dictionary = {\n",
    "\"c\": \"g\",\n",
    "\"g\": \"c\",\n",
    "\"a\": \"t\",\n",
    "\"t\": \"a\"\n",
    "}\n",
    "\n",
    "mytable = myseq.maketrans(complement_dictionary)\n",
    "\n",
    "mytranslate = myseq.translate(mytable)\n",
    "\n"
   ]
  },
  {
   "cell_type": "code",
   "execution_count": 10,
   "metadata": {
    "collapsed": false,
    "scrolled": true
   },
   "outputs": [
   ],
   "source": [
    "complement_dictionary = {\"c\":\"g\", \"g\":\"c\", \"a\":\"t\",\"t\":\"a\"}\n",
    "mytable = new_sequence.maketrans(complement_dictionary)\n",
    "new_sequence_reverse = \"\"\n",
    "\n"
   ]
  },
  {
   "cell_type": "code",
   "execution_count": 12,
   "metadata": {
    "collapsed": false
   },
   "outputs": [
    {
     "name": "stdout",
     "output_type": "stream",
     "text": [
      "cctctcgcccggcggggtgtcgggctcggcctctccctcgcgctcggcgcggccggggccagcccggaggctttggtacttgaaagacgacagaacccacgtaacctcggaacggaacga\n"
     ]
    }
   ],
   "source": [
    "new_sequence_reverse = new_sequence.translate(mytable)\n",
    "print(new_sequence_reverse)"
   ]
  },
  {
   "cell_type": "code",
   "execution_count": 15,
   "metadata": {
    "collapsed": false
   },
   "outputs": [
   ],
   "source": [
    "new_sequnence_reverse_complement = \"\"\n"
   ]
  },
  {
   "cell_type": "code",
   "execution_count": 17,
   "metadata": {
    "collapsed": false
   },
   "outputs": [
    {
     "name": "stdout",
     "output_type": "stream",
     "text": [
      "agcaaggcaaggctccaatgcacccaagacagcagaaagttcatggtttcggaggcccgaccggggccggcgcggctcgcgctccctctccggctcgggctgtggggcggcccgctctcc\n"
     ]
    }
   ],
   "source": [
    "new_sequnence_reverse_complement = new_sequence_reverse[::-1]\n",
    "print(new_sequnence_reverse_complement)"
   ]
  },
  {
   "cell_type": "markdown",
   "metadata": {
    "collapsed": false
   },
   "source": [
    "### Step 4\n",
    "\n",
    "Add this new processed sequence to your DNA sequence dictionary (from step 1) using the gene name (VEGF) as the key."
   ]
  },
  {
   "cell_type": "code",
   "execution_count": 20,
   "metadata": {
    "collapsed": false
   },
   "outputs": [
   ],
   "source": [
    "\n",
    "sequence_dictionary[\"VEGF\"] = new_sequnence_reverse_complement"
   ]
  },
  {
   "cell_type": "markdown",
   "metadata": {
    "collapsed": false
   },
   "source": [
    "### Step 5\n",
    "\n",
    "Count the length of sequence for each gene, assign this value to a variable and use this to print to the screen within a descriptive sentence. For example:\n",
    "\n",
    "\"the length of sequence for IL23R is 60\"\n",
    "\n",
    "You could review the python documentation for \"fancier output formatting\" - https://docs.python.org/3/tutorial/inputoutput.html#fancier-output-formatting\n",
    "\n"
   ]
  },
  {
   "cell_type": "code",
   "execution_count": 64,
   "metadata": {
    "collapsed": false
   },
   "outputs": [
    {
     "name": "stdout",
     "output_type": "stream",
     "text": [
      "the legth of IL23R is 60\n",
      "the length of sequence for TNF is37\n",
      "the length of sequnce for APOE is 120\n",
      "the length of sequnce for IL6 is 60\n",
      "the length of sequnce for VEGF is120\n"
     ]
    }
   ],
   "source": [
    "for i in sequence_dictionary:\n",
    "    if \"IL23R\" in sequence_dictionary:\n",
    "        print(\"the legth of IL23R is \" +str(len(sequence_dictionary[\"IL23R\"])))\n",
    "    if \"TNF\" in sequence_dictionary:\n",
    "        print(\"the length of sequence for TNF is\" + str(len(sequence_dictionary[\"TNF\"])))\n",
    "    if \"APOE\" in sequence_dictionary:\n",
    "        print(\"the length of sequnce for APOE is \" +str(len(sequence_dictionary[\"APOE\"])))\n",
    "    if \"IL6\" in sequence_dictionary:\n",
    "        print(\"the length of sequnce for IL6 is \"+ str(len(sequence_dictionary[\"IL6\"])))\n",
    "    if \"VEGF\" in sequence_dictionary:\n",
    "        print(\"the length of sequnce for VEGF is\"+str(len(sequence_dictionary[\"VEGF\"])))\n",
    "        break\n"
   ]
  },
  {
   "cell_type": "markdown",
   "metadata": {
    "collapsed": false
   },
   "source": [
    "### Step 6\n",
    "\n",
    "Write the new dictionary to file called sequence_dataset_version2.txt.\n",
    "\n"
   ]
  },
  {
   "cell_type": "code",
   "execution_count": 65,
   "metadata": {
    "collapsed": false
   },
   "outputs": [
   ],
   "source": [
    "\n",
    "with open('sequence_dataset_version2.txt','w') as data: \n",
    "      data.write(str(sequence_dictionary))\n",
    "\n",
    "\n"
   ]
  },
  {
   "cell_type": "code",
   "execution_count": 0,
   "metadata": {
    "collapsed": false
   },
   "outputs": [
   ],
   "source": [
   ]
  }
 ],
 "metadata": {
  "kernelspec": {
   "display_name": "Python 3 (system-wide)",
   "language": "python",
   "metadata": {
    "cocalc": {
     "description": "Python 3 programming language",
     "priority": 100,
     "url": "https://www.python.org/"
    }
   },
   "name": "python3",
   "resource_dir": "/ext/jupyter/kernels/python3"
  },
  "language_info": {
   "codemirror_mode": {
    "name": "ipython",
    "version": 3
   },
   "file_extension": ".py",
   "mimetype": "text/x-python",
   "name": "python",
   "nbconvert_exporter": "python",
   "pygments_lexer": "ipython3",
   "version": "3.8.10"
  }
 },
 "nbformat": 4,
 "nbformat_minor": 4
}